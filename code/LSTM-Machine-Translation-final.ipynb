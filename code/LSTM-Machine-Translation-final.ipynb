{
 "cells": [
  {
   "cell_type": "markdown",
   "id": "e5013ef8",
   "metadata": {},
   "source": [
    "# Introduction to Seq2Seq and LSTM for Machine Translation\n",
    "\n",
    "To build a machine translation model using a sequence-to-sequence (seq2seq) architecture with LSTM (Long Short-Term Memory) networks, it is crucial to understand the fundamentals and intricacies of this approach. \n",
    "\n",
    "Seq2seq models are essential for tasks where an input sequence needs to be transformed into an output sequence, such as language translation, text summarization, and chatbot responses. These models differ from \n",
    "many-to-one RNNs/LSTMs, which generate a single output from a sequence of inputs, whereas seq2seq models produce a sequence of outputs (e.g., sentiment analysis).\n",
    "\n",
    "\n",
    "LSTMs, a special kind of RNN, are particularly well-suited for seq2seq tasks due to their ability to capture long-term dependencies in sequences. Unlike vanilla RNNs, which struggle with the vanishing gradient problem, LSTMs use a series of gates (input, forget, and output gates) to regulate the flow of information, allowing them to remember or forget information over long sequences.\n",
    "\n",
    "\n",
    "In the context of machine translation, the seq2seq LSTM architecture consists of two main components: an encoder and a decoder. The encoder processes \n",
    "1. The encoder processes the input sequence (source language) and compresses it into a fixed-length context vector.\n",
    "2. The decoder then takes this context vector and generates the output sequence (target language) one token at a time.\n",
    "\n",
    "<img src=\"encode_decoder.png\" alt=\"Screenshot\" width=\"600\"/>\n"
   ]
  },
  {
   "cell_type": "markdown",
   "id": "bfa5671d",
   "metadata": {},
   "source": [
    "We are following the below steps - \n",
    "\n",
    "1. Importing Libraries\n",
    "2. Data cleaning and prepation, \n",
    "3. Defining model architecture and building the model\n",
    "4. Training the model \n",
    "5. Evaluation (Bleu & Perplexity)\n"
   ]
  },
  {
   "cell_type": "code",
   "execution_count": 177,
   "id": "1885c5bf",
   "metadata": {},
   "outputs": [],
   "source": [
    "from datasets import load_dataset, DatasetDict\n",
    "import pandas as pd\n",
    "import re\n",
    "import string\n",
    "from string import digits\n",
    "import matplotlib.pyplot as plt\n",
    "import numpy as np\n",
    "\n",
    "import numpy as np\n",
    "import pandas as pd\n",
    "from tensorflow.keras.models import Model, load_model\n",
    "from tensorflow.keras.layers import Input, LSTM, Embedding, Dense\n",
    "from tensorflow.keras.preprocessing.text import Tokenizer\n",
    "from tensorflow.keras.preprocessing.sequence import pad_sequences\n",
    "from tensorflow.keras.utils import to_categorical\n",
    "from sklearn.model_selection import train_test_split\n",
    "from tensorflow.keras.losses import sparse_categorical_crossentropy\n",
    "from nltk.translate.bleu_score import sentence_bleu, SmoothingFunction"
   ]
  },
  {
   "cell_type": "code",
   "execution_count": null,
   "id": "5ae6d4ff",
   "metadata": {},
   "outputs": [],
   "source": []
  },
  {
   "cell_type": "markdown",
   "id": "5687064f",
   "metadata": {},
   "source": [
    "### Loading and Preprocessing Data\n",
    "\n",
    "In this critical step, we are loading the dataset, cleaning it, and preprocessing it for training. Data preprocessing is crucial because it directly impacts the model's ability to learn effectively. It involves several sub-steps, including \n",
    "\n",
    "- tokenization and \n",
    "- padding.\n",
    "\n",
    "\n",
    "."
   ]
  },
  {
   "cell_type": "code",
   "execution_count": 133,
   "id": "ea6a78a5",
   "metadata": {},
   "outputs": [],
   "source": [
    "ds = load_dataset(\"cfilt/iitb-english-hindi\")"
   ]
  },
  {
   "cell_type": "code",
   "execution_count": 135,
   "id": "17feba57",
   "metadata": {},
   "outputs": [],
   "source": [
    "final_dataset = DatasetDict({\n",
    "    'train': ds['train'].select(range(10000)), # select top 10k rows\n",
    "    'test': ds['test']  # Keep the test set as is\n",
    "})"
   ]
  },
  {
   "cell_type": "code",
   "execution_count": 136,
   "id": "fa4f9c88",
   "metadata": {},
   "outputs": [],
   "source": [
    "df_train = final_dataset['train'].to_pandas()\n",
    "df_test = final_dataset['test'].to_pandas()"
   ]
  },
  {
   "cell_type": "code",
   "execution_count": 137,
   "id": "54837dc1",
   "metadata": {},
   "outputs": [
    {
     "data": {
      "text/plain": [
       "{'en': 'Give your application an accessibility workout',\n",
       " 'hi': 'अपने अनुप्रयोग को पहुंचनीयता व्यायाम का लाभ दें'}"
      ]
     },
     "execution_count": 137,
     "metadata": {},
     "output_type": "execute_result"
    }
   ],
   "source": [
    "df_train.translation[0]"
   ]
  },
  {
   "cell_type": "code",
   "execution_count": 138,
   "id": "414af737",
   "metadata": {},
   "outputs": [],
   "source": [
    "df_train[['en', 'hi']] = df_train['translation'].apply(pd.Series)\n",
    "df_train.drop(columns=\"translation\", inplace=True)"
   ]
  },
  {
   "cell_type": "code",
   "execution_count": 139,
   "id": "a5ce9fda",
   "metadata": {},
   "outputs": [],
   "source": [
    "df_test[['en', 'hi']] = df_test['translation'].apply(pd.Series)\n",
    "df_test.drop(columns=\"translation\", inplace=True)"
   ]
  },
  {
   "cell_type": "code",
   "execution_count": 140,
   "id": "0a49deae",
   "metadata": {},
   "outputs": [
    {
     "data": {
      "text/html": [
       "<div>\n",
       "<style scoped>\n",
       "    .dataframe tbody tr th:only-of-type {\n",
       "        vertical-align: middle;\n",
       "    }\n",
       "\n",
       "    .dataframe tbody tr th {\n",
       "        vertical-align: top;\n",
       "    }\n",
       "\n",
       "    .dataframe thead th {\n",
       "        text-align: right;\n",
       "    }\n",
       "</style>\n",
       "<table border=\"1\" class=\"dataframe\">\n",
       "  <thead>\n",
       "    <tr style=\"text-align: right;\">\n",
       "      <th></th>\n",
       "      <th>en</th>\n",
       "      <th>hi</th>\n",
       "    </tr>\n",
       "  </thead>\n",
       "  <tbody>\n",
       "    <tr>\n",
       "      <th>0</th>\n",
       "      <td>Give your application an accessibility workout</td>\n",
       "      <td>अपने अनुप्रयोग को पहुंचनीयता व्यायाम का लाभ दें</td>\n",
       "    </tr>\n",
       "    <tr>\n",
       "      <th>1</th>\n",
       "      <td>Accerciser Accessibility Explorer</td>\n",
       "      <td>एक्सेर्साइसर पहुंचनीयता अन्वेषक</td>\n",
       "    </tr>\n",
       "    <tr>\n",
       "      <th>2</th>\n",
       "      <td>The default plugin layout for the bottom panel</td>\n",
       "      <td>निचले पटल के लिए डिफोल्ट प्लग-इन खाका</td>\n",
       "    </tr>\n",
       "    <tr>\n",
       "      <th>3</th>\n",
       "      <td>The default plugin layout for the top panel</td>\n",
       "      <td>ऊपरी पटल के लिए डिफोल्ट प्लग-इन खाका</td>\n",
       "    </tr>\n",
       "    <tr>\n",
       "      <th>4</th>\n",
       "      <td>A list of plugins that are disabled by default</td>\n",
       "      <td>उन प्लग-इनों की सूची जिन्हें डिफोल्ट रूप से नि...</td>\n",
       "    </tr>\n",
       "  </tbody>\n",
       "</table>\n",
       "</div>"
      ],
      "text/plain": [
       "                                               en  \\\n",
       "0  Give your application an accessibility workout   \n",
       "1               Accerciser Accessibility Explorer   \n",
       "2  The default plugin layout for the bottom panel   \n",
       "3     The default plugin layout for the top panel   \n",
       "4  A list of plugins that are disabled by default   \n",
       "\n",
       "                                                  hi  \n",
       "0    अपने अनुप्रयोग को पहुंचनीयता व्यायाम का लाभ दें  \n",
       "1                    एक्सेर्साइसर पहुंचनीयता अन्वेषक  \n",
       "2              निचले पटल के लिए डिफोल्ट प्लग-इन खाका  \n",
       "3               ऊपरी पटल के लिए डिफोल्ट प्लग-इन खाका  \n",
       "4  उन प्लग-इनों की सूची जिन्हें डिफोल्ट रूप से नि...  "
      ]
     },
     "execution_count": 140,
     "metadata": {},
     "output_type": "execute_result"
    }
   ],
   "source": [
    "df_train.head()"
   ]
  },
  {
   "cell_type": "code",
   "execution_count": 46,
   "id": "31aff2ee",
   "metadata": {},
   "outputs": [],
   "source": [
    "## Data Cleaning & Preprocessing"
   ]
  },
  {
   "cell_type": "code",
   "execution_count": 141,
   "id": "3c459f6d",
   "metadata": {},
   "outputs": [],
   "source": [
    "df_joined = pd.concat([df_train, df_test])"
   ]
  },
  {
   "cell_type": "code",
   "execution_count": 142,
   "id": "8a49adb0",
   "metadata": {
    "scrolled": false
   },
   "outputs": [
    {
     "data": {
      "text/html": [
       "<div>\n",
       "<style scoped>\n",
       "    .dataframe tbody tr th:only-of-type {\n",
       "        vertical-align: middle;\n",
       "    }\n",
       "\n",
       "    .dataframe tbody tr th {\n",
       "        vertical-align: top;\n",
       "    }\n",
       "\n",
       "    .dataframe thead th {\n",
       "        text-align: right;\n",
       "    }\n",
       "</style>\n",
       "<table border=\"1\" class=\"dataframe\">\n",
       "  <thead>\n",
       "    <tr style=\"text-align: right;\">\n",
       "      <th></th>\n",
       "      <th>en</th>\n",
       "      <th>hi</th>\n",
       "    </tr>\n",
       "  </thead>\n",
       "  <tbody>\n",
       "    <tr>\n",
       "      <th>0</th>\n",
       "      <td>Give your application an accessibility workout</td>\n",
       "      <td>अपने अनुप्रयोग को पहुंचनीयता व्यायाम का लाभ दें</td>\n",
       "    </tr>\n",
       "    <tr>\n",
       "      <th>1</th>\n",
       "      <td>Accerciser Accessibility Explorer</td>\n",
       "      <td>एक्सेर्साइसर पहुंचनीयता अन्वेषक</td>\n",
       "    </tr>\n",
       "    <tr>\n",
       "      <th>2</th>\n",
       "      <td>The default plugin layout for the bottom panel</td>\n",
       "      <td>निचले पटल के लिए डिफोल्ट प्लग-इन खाका</td>\n",
       "    </tr>\n",
       "    <tr>\n",
       "      <th>3</th>\n",
       "      <td>The default plugin layout for the top panel</td>\n",
       "      <td>ऊपरी पटल के लिए डिफोल्ट प्लग-इन खाका</td>\n",
       "    </tr>\n",
       "    <tr>\n",
       "      <th>4</th>\n",
       "      <td>A list of plugins that are disabled by default</td>\n",
       "      <td>उन प्लग-इनों की सूची जिन्हें डिफोल्ट रूप से नि...</td>\n",
       "    </tr>\n",
       "  </tbody>\n",
       "</table>\n",
       "</div>"
      ],
      "text/plain": [
       "                                               en  \\\n",
       "0  Give your application an accessibility workout   \n",
       "1               Accerciser Accessibility Explorer   \n",
       "2  The default plugin layout for the bottom panel   \n",
       "3     The default plugin layout for the top panel   \n",
       "4  A list of plugins that are disabled by default   \n",
       "\n",
       "                                                  hi  \n",
       "0    अपने अनुप्रयोग को पहुंचनीयता व्यायाम का लाभ दें  \n",
       "1                    एक्सेर्साइसर पहुंचनीयता अन्वेषक  \n",
       "2              निचले पटल के लिए डिफोल्ट प्लग-इन खाका  \n",
       "3               ऊपरी पटल के लिए डिफोल्ट प्लग-इन खाका  \n",
       "4  उन प्लग-इनों की सूची जिन्हें डिफोल्ट रूप से नि...  "
      ]
     },
     "execution_count": 142,
     "metadata": {},
     "output_type": "execute_result"
    }
   ],
   "source": [
    "df_joined.head()"
   ]
  },
  {
   "cell_type": "code",
   "execution_count": 143,
   "id": "f5c4c3c8",
   "metadata": {},
   "outputs": [
    {
     "data": {
      "text/plain": [
       "en         % s does not belong to a set\n",
       "hi    % s किसी समुच्चय का सदस्य नहीं है\n",
       "Name: 130, dtype: object"
      ]
     },
     "execution_count": 143,
     "metadata": {},
     "output_type": "execute_result"
    }
   ],
   "source": [
    "df_joined.iloc[130]"
   ]
  },
  {
   "cell_type": "code",
   "execution_count": 144,
   "id": "dba1ceb1",
   "metadata": {},
   "outputs": [],
   "source": [
    "# Lowercase all characters\n",
    "df_joined['en']=df_joined['en'].apply(lambda x: x.lower())\n",
    "df_joined['hi']=df_joined['hi'].apply(lambda x: x.lower())\n",
    "\n",
    "\n",
    "# Remove quotes\n",
    "df_joined['en']=df_joined['en'].apply(lambda x: re.sub(\"'\", '', x))\n",
    "df_joined['hi']=df_joined['hi'].apply(lambda x: re.sub(\"'\", '', x))\n",
    "\n",
    "exclude = set(string.punctuation) # Set of all special characters\n",
    "# Remove all the special characters\n",
    "df_joined['en']=df_joined['en'].apply(lambda x: ''.join(ch for ch in x if ch not in exclude))\n",
    "df_joined['hi']=df_joined['hi'].apply(lambda x: ''.join(ch for ch in x if ch not in exclude))\n",
    "\n",
    "# Remove all numbers from text\n",
    "remove_digits = str.maketrans('', '', digits)\n",
    "df_joined['en']=df_joined['en'].apply(lambda x: x.translate(remove_digits))\n",
    "df_joined['hi']=df_joined['hi'].apply(lambda x: x.translate(remove_digits))\n",
    "\n",
    "df_joined['hi']=df_joined['hi'].apply(lambda x: re.sub(\"[२३०८१५७९४६]\", \"\", x))\n",
    "\n",
    "df_joined['hi'] = df_joined['hi'].apply(lambda x: re.sub(\"[a-zA-Z]\", \"\", x))\n",
    "\n",
    "# Remove extra spaces\n",
    "df_joined['en']=df_joined['en'].apply(lambda x: x.strip())\n",
    "df_joined['hi']=df_joined['hi'].apply(lambda x: x.strip())\n",
    "df_joined['en']=df_joined['en'].apply(lambda x: re.sub(\" +\", \" \", x))\n",
    "df_joined['hi']=df_joined['hi'].apply(lambda x: re.sub(\" +\", \" \", x))"
   ]
  },
  {
   "cell_type": "code",
   "execution_count": 145,
   "id": "7745307d",
   "metadata": {},
   "outputs": [],
   "source": [
    "df_joined=df_joined[df_joined['en'].apply(lambda x:len(x.split(\" \")))<=20]\n",
    "df_joined=df_joined[df_joined['hi'].apply(lambda x:len(x.split(\" \")))<=20]\n"
   ]
  },
  {
   "cell_type": "code",
   "execution_count": 146,
   "id": "f2b7b55b",
   "metadata": {},
   "outputs": [],
   "source": [
    "X = df_joined['en'].values\n",
    "y = df_joined['hi'].values"
   ]
  },
  {
   "cell_type": "code",
   "execution_count": 147,
   "id": "fd013721",
   "metadata": {},
   "outputs": [
    {
     "data": {
      "text/plain": [
       "'contents'"
      ]
     },
     "execution_count": 147,
     "metadata": {},
     "output_type": "execute_result"
    }
   ],
   "source": [
    "X[135]"
   ]
  },
  {
   "cell_type": "code",
   "execution_count": 148,
   "id": "9b3acbcc",
   "metadata": {},
   "outputs": [
    {
     "data": {
      "text/plain": [
       "'विषय सूची'"
      ]
     },
     "execution_count": 148,
     "metadata": {},
     "output_type": "execute_result"
    }
   ],
   "source": [
    "y[135]"
   ]
  },
  {
   "cell_type": "markdown",
   "id": "5a87b0d8",
   "metadata": {},
   "source": [
    "### Tokenization\n",
    "\n",
    "Tokenization is a fundamental step in natural language processing tasks. It involves converting words or subwords into integer indices, allowing the model to work with numerical data instead of raw text. This step is essential because neural networks operate on numerical data, not strings.\n",
    "\n",
    "\n",
    "For our translation task, we are using separate tokenizers for the source and target languages. This approach allows for independent vocabularies, which is important when dealing with languages that might have different structures or vocabulary sizes.\n",
    "\n",
    "\n",
    "It's worth noting that while we are using a simple **word-level tokenization** here, more advanced techniques like \n",
    "\n",
    "- **Subword tokenization** (used in BPE and SentencePiece) could potentially improve the model's performance, especially when dealing with morphologically rich languages or languages with large vocabularies. \n",
    "- **Character level tokenization** can be used when you want your dictionary size to be smaller and a language where characters mean more than words. Downside to this is the model will take a lot of effort to learn characters relations making up words. But this can be great to mitigae out of vocabulary words in return.\n",
    "\n",
    "\n",
    "<img src=\"tokenization.png\" alt=\"Screenshot\" width=\"600\"/>\n",
    "\n",
    "\n",
    "These advanced tokenization methods can help mitigate the out-of-vocabulary problem and capture meaningful subword units.\n"
   ]
  },
  {
   "cell_type": "code",
   "execution_count": 81,
   "id": "115a6fbb",
   "metadata": {},
   "outputs": [],
   "source": [
    "y = ['start ' + sentence + ' end' for sentence in y]"
   ]
  },
  {
   "cell_type": "code",
   "execution_count": 82,
   "id": "7987d692",
   "metadata": {},
   "outputs": [],
   "source": [
    "# Tokenization\n",
    "eng_tokenizer = Tokenizer()\n",
    "eng_tokenizer.fit_on_texts(X)\n",
    "X_seq = eng_tokenizer.texts_to_sequences(X)\n",
    "max_len_eng = max(len(seq) for seq in X_seq)"
   ]
  },
  {
   "cell_type": "code",
   "execution_count": 86,
   "id": "b33d7190",
   "metadata": {},
   "outputs": [],
   "source": [
    "hin_tokenizer = Tokenizer()\n",
    "hin_tokenizer.fit_on_texts(y)\n",
    "y_seq = hin_tokenizer.texts_to_sequences(y)\n",
    "max_len_hin = max(len(seq) for seq in y_seq)"
   ]
  },
  {
   "cell_type": "markdown",
   "id": "38c5f12e",
   "metadata": {},
   "source": [
    "### Padding Sequences\n",
    "\n",
    "After tokenization, we need to ensure that all sequences in a batch are of the same length. This is where padding comes in. Padding is crucial \n",
    "because LSTM models **expect input tensors of uniform size within each batch**.\n",
    "\n",
    "We are using **post-sequence padding** here, which adds zeros at the end of sequences shorter than the maximum length. An alternative approach is pre-sequence padding, which adds zeros at the beginning. In practice though post-padding is preferred.\n",
    "\n",
    "The importance of padding lies in maintaining consistent input dimensions across batches, which is necessary for efficient batch processing during training. However, it's important to note that excessive padding (when there's a large variance in sequence lengths) can lead to inefficient computation. In such cases, bucketing (grouping sequences of similar lengths) can be a more efficient approach.\n",
    "\n",
    "Here our max lenght is 20 so we dont run the risk of excessive padding."
   ]
  },
  {
   "cell_type": "code",
   "execution_count": null,
   "id": "fe2cf2f9",
   "metadata": {},
   "outputs": [],
   "source": [
    "X_pad = pad_sequences(X_seq, maxlen=max_len_eng, padding='post')\n",
    "y_pad = pad_sequences(y_seq, maxlen=max_len_hin, padding='post')"
   ]
  },
  {
   "cell_type": "markdown",
   "id": "53313aa0",
   "metadata": {},
   "source": [
    "### Vocabulary Sizes\n",
    "- The vocabulary size is the number of unique tokens in the dataset plus one for padding.\n",
    "- Knowing the vocabulary size is essential for defining the embedding layer, which maps each token to a high-dimensional vector."
   ]
  },
  {
   "cell_type": "code",
   "execution_count": 87,
   "id": "b6cb32e3",
   "metadata": {},
   "outputs": [],
   "source": [
    "# Vocabulary sizes\n",
    "eng_vocab_size = len(eng_tokenizer.word_index) + 1\n",
    "hin_vocab_size = len(hin_tokenizer.word_index) + 1"
   ]
  },
  {
   "cell_type": "code",
   "execution_count": 88,
   "id": "0ae8aeaf",
   "metadata": {},
   "outputs": [
    {
     "data": {
      "text/plain": [
       "(4993, 5414)"
      ]
     },
     "execution_count": 88,
     "metadata": {},
     "output_type": "execute_result"
    }
   ],
   "source": [
    "eng_vocab_size, hin_vocab_size"
   ]
  },
  {
   "cell_type": "markdown",
   "id": "7c833f88",
   "metadata": {},
   "source": [
    "### Building the Encoder\n",
    "\n",
    "The encoder is a crucial component of the seq2seq model. Its role is to process the input sequence and encode it into a **fixed-length context vector**. \n",
    "This context vector, which is essentially the final hidden state of the encoder LSTM, contains a compressed representation of the entire input sequence.\n",
    "\n",
    "In our implementation, we are using a single LSTM layer for the encoder with dimension size of 256. However, for more complex translation tasks or longer sequences, using multiple \n",
    " **stacked LSTM** layers or **bidirectional LSTMs** could potentially improve performance. **Bidirectional LSTMs, in particular, can capture context from both \n",
    "past and future states, which can be beneficial for translation tasks**.\n",
    "\n",
    "<img src=\"encoder_lstm.png\" alt=\"Screenshot\" width=\"400\"/>\n",
    "\n",
    "\n",
    "The choice of the number of hidden units in the LSTM layer is an important hyperparameter. More units can capture more complex patterns but also \n",
    "increase the risk of overfitting and computational cost. Finding the right balance is often a matter of experimentation and validation.\n",
    "\n"
   ]
  },
  {
   "cell_type": "code",
   "execution_count": 89,
   "id": "61da4d38",
   "metadata": {},
   "outputs": [],
   "source": [
    "# Define model parameters\n",
    "embedding_dim = 256\n",
    "lstm_units = 256"
   ]
  },
  {
   "cell_type": "code",
   "execution_count": 90,
   "id": "776ce443",
   "metadata": {},
   "outputs": [],
   "source": [
    "# Define the model architecture\n",
    "encoder_inputs = Input(shape=(max_len_eng,))\n",
    "encoder_embedding = Embedding(eng_vocab_size, embedding_dim, mask_zero=True)(encoder_inputs)\n",
    "encoder_lstm = LSTM(lstm_units, return_state=True)\n",
    "encoder_outputs, state_h, state_c = encoder_lstm(encoder_embedding)\n",
    "encoder_states = [state_h, state_c]"
   ]
  },
  {
   "cell_type": "markdown",
   "id": "93b53273",
   "metadata": {},
   "source": [
    "### Building the Decoder\n",
    "\n",
    "The decoder is responsible for generating the output sequence, taking the encoder's context vector as its initial state. It works by predicting \n",
    "the next word in the sequence iteratively, using its previous predictions as input for the next step.\n",
    "\n",
    "In this implementation, we are using a single LSTM layer for the decoder, mirroring the encoder architecture.\n",
    "\n",
    "The dense layer at the end of the decoder acts as a classifier, predicting the probability distribution over the target vocabulary for each time step. \n",
    "The **softmax activation** ensures that these probabilities sum to 1.\n",
    "\n",
    "It's worth noting that while this implementation uses **teacher forcing during training i.e feeding the actual target tokens as input to the decoder)**, \n",
    "more advanced techniques like scheduled sampling (gradually transitioning from teacher forcing to using the model's own predictions) could potentially \n",
    "improve performance and reduce the discrepancy between training and inference.\n",
    "\n",
    "<img src=\"teacher_forcing.png\" alt=\"Screenshot\" width=\"400\"/>"
   ]
  },
  {
   "cell_type": "code",
   "execution_count": null,
   "id": "14f238b8",
   "metadata": {},
   "outputs": [],
   "source": [
    "\n",
    "decoder_inputs = Input(shape=(max_len_hin,))\n",
    "decoder_embedding = Embedding(hin_vocab_size, embedding_dim, mask_zero=True)(decoder_inputs)\n",
    "decoder_lstm = LSTM(lstm_units, return_sequences=True, return_state=True)\n",
    "decoder_outputs, _, _ = decoder_lstm(decoder_embedding, initial_state=encoder_states)\n",
    "decoder_dense = Dense(hin_vocab_size, activation='softmax')\n",
    "decoder_outputs = decoder_dense(decoder_outputs)"
   ]
  },
  {
   "cell_type": "markdown",
   "id": "4dcc87d6",
   "metadata": {},
   "source": [
    "### Defining the Model\n",
    "\n",
    "Here we are defining the complete seq2seq model by combining the encoder and decoder. The model takes two inputs: \n",
    "\n",
    "- the source sequence and \n",
    "- the target sequence (shifted by one time step, as the decoder predicts the next word given the previous words).\n",
    "\n",
    "\n",
    "The choice of loss function is crucial for effective learning. We are using **sparse categorical crossentropy**, which is appropriate for **multi-class \n",
    "classification** problems with integer targets. This loss function measures the dissimilarity between the predicted probability distribution and \n",
    "the actual target word at each time step.\n",
    "\n",
    "Alternative loss functions like label smoothing could potentially improve performance by preventing the model from becoming overconfident in its predictions.\n"
   ]
  },
  {
   "cell_type": "code",
   "execution_count": 91,
   "id": "e04f62b7",
   "metadata": {},
   "outputs": [],
   "source": [
    "# Define the model\n",
    "model = Model([encoder_inputs, decoder_inputs], decoder_outputs)"
   ]
  },
  {
   "cell_type": "code",
   "execution_count": 155,
   "id": "f5b6561a",
   "metadata": {
    "scrolled": true
   },
   "outputs": [
    {
     "name": "stdout",
     "output_type": "stream",
     "text": [
      "Model: \"model_1\"\n",
      "__________________________________________________________________________________________________\n",
      " Layer (type)                Output Shape                 Param #   Connected to                  \n",
      "==================================================================================================\n",
      " input_3 (InputLayer)        [(None, 20)]                 0         []                            \n",
      "                                                                                                  \n",
      " input_4 (InputLayer)        [(None, 22)]                 0         []                            \n",
      "                                                                                                  \n",
      " embedding_2 (Embedding)     (None, 20, 256)              1278208   ['input_3[0][0]']             \n",
      "                                                                                                  \n",
      " embedding_3 (Embedding)     (None, 22, 256)              1385984   ['input_4[0][0]']             \n",
      "                                                                                                  \n",
      " lstm_2 (LSTM)               [(None, 256),                525312    ['embedding_2[0][0]']         \n",
      "                              (None, 256),                                                        \n",
      "                              (None, 256)]                                                        \n",
      "                                                                                                  \n",
      " lstm_3 (LSTM)               [(None, 22, 256),            525312    ['embedding_3[0][0]',         \n",
      "                              (None, 256),                           'lstm_2[0][1]',              \n",
      "                              (None, 256)]                           'lstm_2[0][2]']              \n",
      "                                                                                                  \n",
      " dense_1 (Dense)             (None, 22, 5414)             1391398   ['lstm_3[0][0]']              \n",
      "                                                                                                  \n",
      "==================================================================================================\n",
      "Total params: 5106214 (19.48 MB)\n",
      "Trainable params: 5106214 (19.48 MB)\n",
      "Non-trainable params: 0 (0.00 Byte)\n",
      "__________________________________________________________________________________________________\n"
     ]
    }
   ],
   "source": [
    "# Compile the model\n",
    "model.compile(optimizer='adam', loss='sparse_categorical_crossentropy')\n",
    "model.summary()"
   ]
  },
  {
   "cell_type": "markdown",
   "id": "a9c2c08c",
   "metadata": {},
   "source": [
    "### Training the Model\n",
    "\n",
    "The training process is where the model learns to map input sequences to output sequences. \n",
    "We are using 20% of our data for training and setting aside a validation set to monitor the model's performance on unseen data.\n",
    "\n",
    "The choice of **batch size** is an important consideration. \n",
    "\n",
    "- Larger batch sizes can lead to faster training and more stable gradient estimates, but they also require more memory and might result in poorer generalization. \n",
    "- Smaller batch sizes introduce more noise into the optimization process, which can sometimes help the model escape local minima, but they can also lead to longer training times.\n",
    "\n",
    "\n",
    "The **validation set** plays a crucial role in **preventing overfitting**. By monitoring the model's performance on this held-out data, we can detect if the  model is memorizing the training data rather than learning generalizable patterns. Techniques like **early stopping (halting training when validation performance stops improving)** can be employed to prevent overfitting.\n",
    "\n",
    "The **number of epochs** is another important hyperparameter. Training for too few epochs might result in underfitting, while too many can lead to overfitting. Monitoring the validation loss can help determine the optimal number of epochs.\n",
    "\n",
    "\n",
    "Training the model involves feeding the input sequences to the encoder and the target sequences (shifted by one step) to the decoder. We are using a **batch size of 64 and training for 40 epochs**, but more epochs are typically required for better performance."
   ]
  },
  {
   "cell_type": "code",
   "execution_count": 93,
   "id": "4b2b0460",
   "metadata": {},
   "outputs": [],
   "source": [
    "# Prepare the target data\n",
    "y_shifted = np.zeros_like(y_pad)\n",
    "y_shifted[:, :-1] = y_pad[:, 1:]"
   ]
  },
  {
   "cell_type": "markdown",
   "id": "4be6bc39",
   "metadata": {},
   "source": [
    "\n",
    "In a broader context, **cross-validation** or more sophisticated splitting strategies can be employed to ensure robust evaluation."
   ]
  },
  {
   "cell_type": "code",
   "execution_count": 94,
   "id": "9b92dc95",
   "metadata": {},
   "outputs": [],
   "source": [
    "# Split data into training and validation sets\n",
    "X_train, X_val, y_train, y_val, y_shifted_train, y_shifted_val = train_test_split(X_pad, y_pad, y_shifted, test_size=0.2)"
   ]
  },
  {
   "cell_type": "code",
   "execution_count": 309,
   "id": "b3fb500f",
   "metadata": {
    "scrolled": true
   },
   "outputs": [
    {
     "name": "stdout",
     "output_type": "stream",
     "text": [
      "Epoch 1/40\n",
      "139/139 [==============================] - 18s 110ms/step - loss: 0.1249 - val_loss: 2.7244\n",
      "Epoch 2/40\n",
      "139/139 [==============================] - 15s 107ms/step - loss: 0.1005 - val_loss: 2.7755\n",
      "Epoch 3/40\n",
      "139/139 [==============================] - 15s 109ms/step - loss: 0.0889 - val_loss: 2.7978\n",
      "Epoch 4/40\n",
      "139/139 [==============================] - 15s 111ms/step - loss: 0.0801 - val_loss: 2.8193\n",
      "Epoch 5/40\n",
      "139/139 [==============================] - 15s 110ms/step - loss: 0.0734 - val_loss: 2.8598\n",
      "Epoch 6/40\n",
      "139/139 [==============================] - 16s 114ms/step - loss: 0.0677 - val_loss: 2.8819\n",
      "Epoch 7/40\n",
      "139/139 [==============================] - 16s 112ms/step - loss: 0.0631 - val_loss: 2.9059\n",
      "Epoch 8/40\n",
      "139/139 [==============================] - 16s 115ms/step - loss: 0.0588 - val_loss: 2.9333\n",
      "Epoch 9/40\n",
      "139/139 [==============================] - 16s 115ms/step - loss: 0.0553 - val_loss: 2.9564\n",
      "Epoch 10/40\n",
      "139/139 [==============================] - 16s 113ms/step - loss: 0.0538 - val_loss: 2.9724\n",
      "Epoch 11/40\n",
      "139/139 [==============================] - 15s 110ms/step - loss: 0.0515 - val_loss: 2.9926\n",
      "Epoch 12/40\n",
      "139/139 [==============================] - 16s 112ms/step - loss: 0.0500 - val_loss: 3.0092\n",
      "Epoch 13/40\n",
      "139/139 [==============================] - 16s 113ms/step - loss: 0.0484 - val_loss: 3.0309\n",
      "Epoch 14/40\n",
      "139/139 [==============================] - 16s 112ms/step - loss: 0.0475 - val_loss: 3.0356\n",
      "Epoch 15/40\n",
      "139/139 [==============================] - 15s 110ms/step - loss: 0.0468 - val_loss: 3.0572\n",
      "Epoch 16/40\n",
      "139/139 [==============================] - 15s 110ms/step - loss: 0.0459 - val_loss: 3.0632\n",
      "Epoch 17/40\n",
      "139/139 [==============================] - 15s 111ms/step - loss: 0.0466 - val_loss: 3.0820\n",
      "Epoch 18/40\n",
      "139/139 [==============================] - 15s 110ms/step - loss: 0.0545 - val_loss: 3.1299\n",
      "Epoch 19/40\n",
      "139/139 [==============================] - 15s 109ms/step - loss: 0.0909 - val_loss: 3.1054\n",
      "Epoch 20/40\n",
      "139/139 [==============================] - 16s 113ms/step - loss: 0.0692 - val_loss: 3.1290\n",
      "Epoch 21/40\n",
      "139/139 [==============================] - 15s 109ms/step - loss: 0.0509 - val_loss: 3.1293\n",
      "Epoch 22/40\n",
      "139/139 [==============================] - 16s 119ms/step - loss: 0.0441 - val_loss: 3.1426\n",
      "Epoch 23/40\n",
      "139/139 [==============================] - 16s 118ms/step - loss: 0.0428 - val_loss: 3.1540\n",
      "Epoch 24/40\n",
      "139/139 [==============================] - 15s 110ms/step - loss: 0.0415 - val_loss: 3.1606\n",
      "Epoch 25/40\n",
      "139/139 [==============================] - 15s 110ms/step - loss: 0.0413 - val_loss: 3.1714\n",
      "Epoch 26/40\n",
      "139/139 [==============================] - 15s 109ms/step - loss: 0.0412 - val_loss: 3.1776\n",
      "Epoch 27/40\n",
      "139/139 [==============================] - 16s 112ms/step - loss: 0.0409 - val_loss: 3.1851\n",
      "Epoch 28/40\n",
      "139/139 [==============================] - 15s 108ms/step - loss: 0.0402 - val_loss: 3.1940\n",
      "Epoch 29/40\n",
      "139/139 [==============================] - 15s 110ms/step - loss: 0.0407 - val_loss: 3.1981\n",
      "Epoch 30/40\n",
      "139/139 [==============================] - 15s 107ms/step - loss: 0.0401 - val_loss: 3.2079\n",
      "Epoch 31/40\n",
      "139/139 [==============================] - 15s 106ms/step - loss: 0.0396 - val_loss: 3.2166\n",
      "Epoch 32/40\n",
      "139/139 [==============================] - 15s 108ms/step - loss: 0.0401 - val_loss: 3.2238\n",
      "Epoch 33/40\n",
      "139/139 [==============================] - 15s 108ms/step - loss: 0.0396 - val_loss: 3.2266\n",
      "Epoch 34/40\n",
      "139/139 [==============================] - 15s 106ms/step - loss: 0.0396 - val_loss: 3.2379\n",
      "Epoch 35/40\n",
      "139/139 [==============================] - 15s 105ms/step - loss: 0.0396 - val_loss: 3.2402\n",
      "Epoch 36/40\n",
      "139/139 [==============================] - 15s 105ms/step - loss: 0.0392 - val_loss: 3.2464\n",
      "Epoch 37/40\n",
      "139/139 [==============================] - 15s 109ms/step - loss: 0.0393 - val_loss: 3.2545\n",
      "Epoch 38/40\n",
      "139/139 [==============================] - 15s 110ms/step - loss: 0.0392 - val_loss: 3.2577\n",
      "Epoch 39/40\n",
      "139/139 [==============================] - 15s 107ms/step - loss: 0.0393 - val_loss: 3.2750\n",
      "Epoch 40/40\n",
      "139/139 [==============================] - 15s 107ms/step - loss: 0.0387 - val_loss: 3.2774\n"
     ]
    }
   ],
   "source": [
    "# Train the model and store the history\n",
    "history2 = model.fit([X_train, y_train], np.expand_dims(y_shifted_train, -1), \n",
    "                    epochs=40, batch_size=64, \n",
    "                    validation_data=([X_val, y_val], np.expand_dims(y_shifted_val, -1)))\n"
   ]
  },
  {
   "cell_type": "code",
   "execution_count": 96,
   "id": "df1306e7",
   "metadata": {},
   "outputs": [
    {
     "data": {
      "image/png": "[encoded data removed]",
      "text/plain": [
       "<Figure size 640x480 with 1 Axes>"
      ]
     },
     "metadata": {},
     "output_type": "display_data"
    }
   ],
   "source": [
    "# Plot the training and validation loss\n",
    "plt.plot(history.history['loss'], label='Training Loss')\n",
    "plt.plot(history.history['val_loss'], label='Validation Loss')\n",
    "plt.xlabel('Epoch')\n",
    "plt.ylabel('Loss')\n",
    "plt.legend()\n",
    "plt.title('Training and Validation Loss')\n",
    "plt.show()"
   ]
  },
  {
   "cell_type": "code",
   "execution_count": null,
   "id": "d998fb94",
   "metadata": {
    "scrolled": true
   },
   "outputs": [],
   "source": [
    "# Save the model\n",
    "model.save('model.h5')"
   ]
  },
  {
   "cell_type": "code",
   "execution_count": null,
   "id": "d98d0f78",
   "metadata": {},
   "outputs": [],
   "source": [
    "# Load the trained model\n",
    "model = load_model('model.h5')"
   ]
  },
  {
   "cell_type": "markdown",
   "id": "9c1432fa",
   "metadata": {},
   "source": [
    "### Evaluating the Model\n",
    "#### Evaluation is crucial for understanding how well my model performs on unseen data. We using three main stratergies: \n",
    "\n",
    "- **BLEU score\n",
    "- **Perplexity\n",
    "- **Manual Evaluation\n"
   ]
  },
  {
   "cell_type": "markdown",
   "id": "f641c4b1",
   "metadata": {},
   "source": [
    "### Inference & Manual Evaluation\n",
    "\n",
    "During inference (translation of new sentences), the model generates translations one word at a time. This process differs from training, where \n",
    "teacher forcing is used. Instead, each predicted word is fed back into the model as input for the next prediction.\n",
    "\n",
    "We are using a **greedy search strategy** here, always choosing the most probable word at each step. While simple and fast, this approach can sometimes lead to suboptimal translations. \n",
    "More advanced techniques like *beam search*, which considers multiple possible sequences, could potentially improve \n",
    "translation quality at the cost of increased computation."
   ]
  },
  {
   "cell_type": "code",
   "execution_count": 310,
   "id": "45c426a3",
   "metadata": {},
   "outputs": [],
   "source": [
    "def translate_sentence(sentence, model, eng_tokenizer, hin_tokenizer, max_len_eng, max_len_hin):\n",
    "    # Tokenize and pad the input sentence\n",
    "    input_seq = eng_tokenizer.texts_to_sequences([sentence])\n",
    "    input_seq = pad_sequences(input_seq, maxlen=max_len_eng, padding='post')\n",
    "    \n",
    "    # Initialize target sequence with start token\n",
    "    target_seq = np.zeros((1, 1))\n",
    "    target_seq[0, 0] = hin_tokenizer.word_index['start']\n",
    "    \n",
    "    # Create reverse word index for Hindi\n",
    "    reverse_word_index = dict([(idx, word) for word, idx in hin_tokenizer.word_index.items()])\n",
    "    \n",
    "    decoded_sentence = []\n",
    "    \n",
    "    for _ in range(max_len_hin):\n",
    "        output = model.predict([input_seq, target_seq], verbose=0)\n",
    "        sampled_token_index = np.argmax(output[0, -1, :])\n",
    "        sampled_word = reverse_word_index.get(sampled_token_index, '')\n",
    "        \n",
    "        if sampled_word == 'end' or sampled_word == '' or len(decoded_sentence) >= max_len_hin - 1:\n",
    "            break\n",
    "        \n",
    "        decoded_sentence.append(sampled_word)\n",
    "        \n",
    "        # Update target sequence\n",
    "        target_seq = np.zeros((1, len(decoded_sentence) + 1))\n",
    "        for t, word in enumerate(decoded_sentence):\n",
    "            target_seq[0, t] = hin_tokenizer.word_index.get(word, 0)  # Use 0 for unknown words\n",
    "        target_seq[0, len(decoded_sentence)] = sampled_token_index\n",
    "    \n",
    "    return ' '.join(decoded_sentence)\n",
    "\n"
   ]
  },
  {
   "cell_type": "code",
   "execution_count": 314,
   "id": "02127006",
   "metadata": {
    "scrolled": true
   },
   "outputs": [
    {
     "name": "stdout",
     "output_type": "stream",
     "text": [
      "English: start stop event recording\n",
      "Hindi: घटना रेकोर्डिंग शुरू शुरू करोरोको\n"
     ]
    }
   ],
   "source": [
    "# Example usage\n",
    "english_sentence = X[29]\n",
    "hindi_translation = translate_sentence(english_sentence, model, eng_tokenizer, hin_tokenizer, max_len_eng, max_len_hin)\n",
    "print(f\"English: {english_sentence}\")\n",
    "print(f\"Hindi: {hindi_translation}\")"
   ]
  },
  {
   "cell_type": "code",
   "execution_count": 317,
   "id": "1eca4878",
   "metadata": {},
   "outputs": [],
   "source": [
    "xval = X_val\n",
    "yval = y_val"
   ]
  },
  {
   "cell_type": "code",
   "execution_count": 318,
   "id": "965d7b5a",
   "metadata": {},
   "outputs": [
    {
     "data": {
      "text/plain": [
       "(2223, 20)"
      ]
     },
     "execution_count": 318,
     "metadata": {},
     "output_type": "execute_result"
    }
   ],
   "source": [
    "X_val.shape"
   ]
  },
  {
   "cell_type": "markdown",
   "id": "1f525eda",
   "metadata": {},
   "source": [
    "### Perplexity:\n",
    "\n",
    "Perplexity is a measure of how well a probability model predicts a sample. In the context of language models, it can be interpreted as the weighted average branching factor of the language. **Lower perplexity indicates better performance.**\n",
    "\n",
    "- Perplexity is calculated as the **exponential of the cross-entropy loss**. \n",
    "-\n",
    "- It focuses on the **model's confidence in its predictions rather than direct comparison with reference translations** provding a different perspective on model performance compared to BLEU."
   ]
  },
  {
   "cell_type": "code",
   "execution_count": 320,
   "id": "0ab4c367",
   "metadata": {},
   "outputs": [],
   "source": [
    "def calculate_perplexity(model, input_seq, target_seq, max_len_hin):\n",
    "    # Shift the target sequence by one for prediction\n",
    "    y_shifted = np.zeros_like(target_seq)\n",
    "    y_shifted[:, :-1] = target_seq[:, 1:]\n",
    "    \n",
    "    y_pred = model.predict([input_seq, target_seq], verbose=0)\n",
    "    cross_entropy = sparse_categorical_crossentropy(y_shifted, y_pred)\n",
    "    perplexity = np.exp(np.mean(cross_entropy))\n",
    "    return perplexity\n",
    "\n"
   ]
  },
  {
   "cell_type": "code",
   "execution_count": 321,
   "id": "628cef0c",
   "metadata": {},
   "outputs": [
    {
     "name": "stdout",
     "output_type": "stream",
     "text": [
      "Overall Perplexity: 2.3500137329101562\n"
     ]
    }
   ],
   "source": [
    "perplexity = calculate_perplexity(model, xval, yval, max_len_hin)\n",
    "print(f\"Overall Perplexity: {perplexity}\")"
   ]
  },
  {
   "cell_type": "markdown",
   "id": "1c8e1e5e",
   "metadata": {},
   "source": [
    "### BLEU (Bilingual Evaluation Understudy) Score:\n",
    "\n",
    "BLEU is a widely used metric for evaluating the quality of machine-translated text. \n",
    "\n",
    "- It compares the model's output to one or more reference translations, measuring the overlap of n-grams (typically up to 4-grams). \n",
    "- BLEU scores range from 0 to 1, with **higher scores indicating better translations**.\n",
    "\n",
    "\n",
    "However, it's important to note that BLEU has limitations. \n",
    "\n",
    "- It doesn't account for semantic equivalence and can sometimes assign low scores to good translations that use different but equally valid phrasings. \n",
    "\n",
    "Despite these limitations, **BLEU remains a standard metric in machine translation due to its simplicity and correlation with human judgments**."
   ]
  },
  {
   "cell_type": "code",
   "execution_count": 350,
   "id": "e8f4b623",
   "metadata": {},
   "outputs": [],
   "source": [
    "def translate_tokenized_sequence(input_seq, model, hin_tokenizer, max_len_hin):\n",
    "    # Initialize target sequence with start token\n",
    "    target_seq = np.zeros((1, 1))\n",
    "    target_seq[0, 0] = hin_tokenizer.word_index['start']\n",
    "\n",
    "    # Create reverse word index for Hindi\n",
    "    reverse_word_index = dict([(idx, word) for word, idx in hin_tokenizer.word_index.items()])\n",
    "\n",
    "    decoded_sentence = []\n",
    "\n",
    "    for _ in range(max_len_hin):\n",
    "        output = model.predict([input_seq, target_seq], verbose=0)\n",
    "        sampled_token_index = np.argmax(output[0, -1, :])\n",
    "        sampled_word = reverse_word_index.get(sampled_token_index, '')\n",
    "\n",
    "        if sampled_word == 'end' or sampled_word == '' or len(decoded_sentence) >= max_len_hin - 1:\n",
    "            break\n",
    "\n",
    "        decoded_sentence.append(sampled_word)\n",
    "\n",
    "        # Update target sequence\n",
    "        target_seq = np.zeros((1, len(decoded_sentence) + 1))\n",
    "        for t, word in enumerate(decoded_sentence):\n",
    "            target_seq[0, t] = hin_tokenizer.word_index.get(word, 0)  # Use 0 for unknown words\n",
    "        target_seq[0, len(decoded_sentence)] = sampled_token_index\n",
    "\n",
    "    return decoded_sentence\n",
    "\n",
    "def calculate_bleu(model, input_seq, target_seq, max_len_eng, max_len_hin, hin_tokenizer):\n",
    "    smooth_fn = SmoothingFunction().method4\n",
    "    bleu_scores = []\n",
    "    for i in range(len(input_seq)):\n",
    "        decoded_sentence = translate_tokenized_sequence(input_seq[i:i+1], model, hin_tokenizer, max_len_hin)\n",
    "        reference = target_seq[i].tolist()\n",
    "        reference_sentence = [hin_tokenizer.index_word[idx] for idx in reference if idx != 0 and idx not in [hin_tokenizer.word_index['start'], hin_tokenizer.word_index['end']]]\n",
    "\n",
    "        if not reference_sentence:\n",
    "            continue\n",
    "        \n",
    "\n",
    "        bleu_scores.append(sentence_bleu([reference_sentence], decoded_sentence, smoothing_function=smooth_fn))\n",
    "    return np.mean(bleu_scores)"
   ]
  },
  {
   "cell_type": "code",
   "execution_count": 323,
   "id": "324550eb",
   "metadata": {
    "scrolled": false
   },
   "outputs": [
    {
     "name": "stdout",
     "output_type": "stream",
     "text": [
      "Decoded: हाल में खेल के साथ फाइल\n",
      "Reference: हाल में खेले खेल के नाम\n",
      "/n\n",
      "Overall BLEU Score: 0.31237541294178106\n"
     ]
    }
   ],
   "source": [
    "bleu_score = calculate_bleu(model, xval, yval, max_len_eng, max_len_hin, hin_tokenizer)\n",
    "print('/n')\n",
    "print(f\"Overall BLEU Score: {bleu_score}\")\n"
   ]
  },
  {
   "cell_type": "code",
   "execution_count": 351,
   "id": "08d8bdd1",
   "metadata": {},
   "outputs": [],
   "source": [
    "perplexities = []\n",
    "token_size = []\n",
    "bleu_score = []\n",
    "for i in range(len(xval)):\n",
    "    p = calculate_perplexity(model, xval[i:i+1],yval[i:i+1], max_len_hin)\n",
    "    perplexities.append(p)\n",
    "    token_size.append(np.count_nonzero(xval[i]))\n",
    "    b = calculate_bleu(model, xval[i:i+1], yval[i:i+1], max_len_eng, max_len_hin, hin_tokenizer)\n",
    "    bleu_score.append(b)"
   ]
  },
  {
   "cell_type": "code",
   "execution_count": 325,
   "id": "05b0bf79",
   "metadata": {},
   "outputs": [],
   "source": [
    "# Remove NaN values from bleu_score and corresponding values from other lists\n",
    "valid_indices = [i for i, b in enumerate(bleu_score) if not np.isnan(b)]\n",
    "perplexities = [perplexities[i] for i in valid_indices]\n",
    "token_size = [token_size[i] for i in valid_indices]\n",
    "bleu_score = [bleu_score[i] for i in valid_indices]"
   ]
  },
  {
   "cell_type": "code",
   "execution_count": 326,
   "id": "cdc9967e",
   "metadata": {},
   "outputs": [],
   "source": [
    "# Convert lists to DataFrame for easier manipulation\n",
    "eval_data = pd.DataFrame({\n",
    "    'token_size': token_size,\n",
    "    'perplexities': perplexities,\n",
    "    'bleu_score': bleu_score\n",
    "})\n"
   ]
  },
  {
   "cell_type": "code",
   "execution_count": 327,
   "id": "39878e6a",
   "metadata": {},
   "outputs": [
    {
     "data": {
      "text/html": [
       "<div>\n",
       "<style scoped>\n",
       "    .dataframe tbody tr th:only-of-type {\n",
       "        vertical-align: middle;\n",
       "    }\n",
       "\n",
       "    .dataframe tbody tr th {\n",
       "        vertical-align: top;\n",
       "    }\n",
       "\n",
       "    .dataframe thead th {\n",
       "        text-align: right;\n",
       "    }\n",
       "</style>\n",
       "<table border=\"1\" class=\"dataframe\">\n",
       "  <thead>\n",
       "    <tr style=\"text-align: right;\">\n",
       "      <th></th>\n",
       "      <th>token_size</th>\n",
       "      <th>perplexities</th>\n",
       "      <th>bleu_score</th>\n",
       "    </tr>\n",
       "  </thead>\n",
       "  <tbody>\n",
       "    <tr>\n",
       "      <th>0</th>\n",
       "      <td>3</td>\n",
       "      <td>1.000740</td>\n",
       "      <td>0.137429</td>\n",
       "    </tr>\n",
       "    <tr>\n",
       "      <th>1</th>\n",
       "      <td>4</td>\n",
       "      <td>1.000566</td>\n",
       "      <td>0.211780</td>\n",
       "    </tr>\n",
       "    <tr>\n",
       "      <th>2</th>\n",
       "      <td>2</td>\n",
       "      <td>1.000549</td>\n",
       "      <td>0.221389</td>\n",
       "    </tr>\n",
       "    <tr>\n",
       "      <th>3</th>\n",
       "      <td>16</td>\n",
       "      <td>9384.836914</td>\n",
       "      <td>0.014632</td>\n",
       "    </tr>\n",
       "    <tr>\n",
       "      <th>4</th>\n",
       "      <td>6</td>\n",
       "      <td>1.402962</td>\n",
       "      <td>0.295584</td>\n",
       "    </tr>\n",
       "  </tbody>\n",
       "</table>\n",
       "</div>"
      ],
      "text/plain": [
       "   token_size  perplexities  bleu_score\n",
       "0           3      1.000740    0.137429\n",
       "1           4      1.000566    0.211780\n",
       "2           2      1.000549    0.221389\n",
       "3          16   9384.836914    0.014632\n",
       "4           6      1.402962    0.295584"
      ]
     },
     "execution_count": 327,
     "metadata": {},
     "output_type": "execute_result"
    }
   ],
   "source": [
    "eval_data.head()"
   ]
  },
  {
   "cell_type": "code",
   "execution_count": 336,
   "id": "48bbaa05",
   "metadata": {},
   "outputs": [],
   "source": [
    "# Define the bins and labels\n",
    "bins = [0, 5, 10, 15, 20]\n",
    "labels = ['1-5', '6-10', '11-15', '16-20']\n",
    "\n",
    "# Create a new column for the bins\n",
    "eval_data['token_size_bin'] = pd.cut(eval_data['token_size'], bins=bins, labels=labels)\n",
    "\n",
    "# Group by the new bins and calculate mean perplexity, BLEU score, and count\n",
    "grouped_data = eval_data.groupby('token_size_bin').agg({\n",
    "    'perplexities': 'mean',\n",
    "    'bleu_score': 'mean',\n",
    "    'token_size': 'count'\n",
    "}).rename(columns={'token_size': 'count'}).reset_index()\n"
   ]
  },
  {
   "cell_type": "code",
   "execution_count": 337,
   "id": "6fddaecf",
   "metadata": {
    "scrolled": true
   },
   "outputs": [
    {
     "data": {
      "text/html": [
       "<div>\n",
       "<style scoped>\n",
       "    .dataframe tbody tr th:only-of-type {\n",
       "        vertical-align: middle;\n",
       "    }\n",
       "\n",
       "    .dataframe tbody tr th {\n",
       "        vertical-align: top;\n",
       "    }\n",
       "\n",
       "    .dataframe thead th {\n",
       "        text-align: right;\n",
       "    }\n",
       "</style>\n",
       "<table border=\"1\" class=\"dataframe\">\n",
       "  <thead>\n",
       "    <tr style=\"text-align: right;\">\n",
       "      <th></th>\n",
       "      <th>token_size_bin</th>\n",
       "      <th>perplexities</th>\n",
       "      <th>bleu_score</th>\n",
       "      <th>count</th>\n",
       "    </tr>\n",
       "  </thead>\n",
       "  <tbody>\n",
       "    <tr>\n",
       "      <th>0</th>\n",
       "      <td>1-5</td>\n",
       "      <td>1.431235</td>\n",
       "      <td>0.359508</td>\n",
       "      <td>1629</td>\n",
       "    </tr>\n",
       "    <tr>\n",
       "      <th>1</th>\n",
       "      <td>6-10</td>\n",
       "      <td>148.393509</td>\n",
       "      <td>0.233733</td>\n",
       "      <td>301</td>\n",
       "    </tr>\n",
       "    <tr>\n",
       "      <th>2</th>\n",
       "      <td>11-15</td>\n",
       "      <td>4049.943848</td>\n",
       "      <td>0.100812</td>\n",
       "      <td>177</td>\n",
       "    </tr>\n",
       "    <tr>\n",
       "      <th>3</th>\n",
       "      <td>16-20</td>\n",
       "      <td>19267.025391</td>\n",
       "      <td>0.042362</td>\n",
       "      <td>58</td>\n",
       "    </tr>\n",
       "  </tbody>\n",
       "</table>\n",
       "</div>"
      ],
      "text/plain": [
       "  token_size_bin  perplexities  bleu_score  count\n",
       "0            1-5      1.431235    0.359508   1629\n",
       "1           6-10    148.393509    0.233733    301\n",
       "2          11-15   4049.943848    0.100812    177\n",
       "3          16-20  19267.025391    0.042362     58"
      ]
     },
     "execution_count": 337,
     "metadata": {},
     "output_type": "execute_result"
    }
   ],
   "source": [
    "grouped_data.head(20)"
   ]
  },
  {
   "cell_type": "markdown",
   "id": "97f80483",
   "metadata": {},
   "source": [
    "### Performance Degradation with Sequence Length\n",
    "\n",
    "As the length of input sequences increases, the performance of my seq2seq LSTM model tends to degrade. This is a common issue with sequence-to-sequence models and stems from the **difficulty in maintaining long-term dependencies over extended sequences**.\n",
    "\n",
    "The root cause of this problem lies in the **fixed-length context vector** used to pass information from the encoder to the decoder. \n",
    "- As sequences get longer, it becomes increasingly challenging to compress all relevant information into this fixed-length vector. This can lead to loss of important details, especially for words at the beginning of long sequences."
   ]
  },
  {
   "cell_type": "code",
   "execution_count": 341,
   "id": "af3df338",
   "metadata": {},
   "outputs": [
    {
     "data": {
      "image/png": "[encoded data removed]",
      "text/plain": [
       "<Figure size 1200x400 with 2 Axes>"
      ]
     },
     "metadata": {},
     "output_type": "display_data"
    }
   ],
   "source": [
    "# Plotting with seaborn\n",
    "sns.set(style=\"whitegrid\")\n",
    "fig, (ax1, ax2) = plt.subplots(1, 2, figsize=(12, 4))\n",
    "\n",
    "# Plotting average perplexity\n",
    "sns.lineplot(data=grouped_data, x='token_size_bin', y='perplexities', ax=ax1, marker='o', color='g')\n",
    "ax1.set_ylabel('Average Perplexity', color='g')\n",
    "ax1.set_xlabel('Token Size Range')\n",
    "ax1.set_title('Average Perplexity by Token Size Range')\n",
    "\n",
    "# Plotting average BLEU score\n",
    "sns.lineplot(data=grouped_data, x='token_size_bin', y='bleu_score', ax=ax2, marker='o', color='b')\n",
    "ax2.set_ylabel('Average BLEU Score', color='b')\n",
    "ax2.set_xlabel('Token Size Range')\n",
    "ax2.set_title('Average BLEU Score by Token Size Range')\n",
    "\n",
    "plt.suptitle('Average Perplexity and BLEU Score by Token Size Range')\n",
    "\n",
    "plt.tight_layout(rect=[0, 0.03, 1, 0.95])\n",
    "plt.show()"
   ]
  },
  {
   "cell_type": "markdown",
   "id": "e5925a14",
   "metadata": {},
   "source": [
    "Here we can see this phenomenon as we break down the Bleu score & Perplexity score for ~2300 validation set based on number of input words/tokens\n",
    "- The Perplexity score increases as sentences get longer\n",
    "- The Bleu score decreses as sentences get longer\n",
    "\n",
    "Both implying the **vanishing gradient problem** where the information from longer sentences get lost when getting encoded in the context vector. "
   ]
  },
  {
   "cell_type": "markdown",
   "id": "42d93e5c",
   "metadata": {},
   "source": [
    "### Attention Mechanisms and Transformers\n",
    "\n",
    "To address the limitations of traditional seq2seq models, **attention mechanisms** were introduced. \n",
    "\n",
    "- Attention allows the model to focus on different parts of the input sequence when generating each word of the output, rather than relying solely on a fixed-length context vector.\n",
    "\n",
    "Building upon the success of attention, transformer models have become the state-of-the-art in many sequence-to-sequence tasks, including machine translation. \n",
    "\n",
    "**Transformers rely entirely on attention mechanisms**, dispensing with recurrence and convolutions entirely. This allows for more parallelization during training and enables the model to capture long-range dependencies more effectively.\n",
    "\n",
    "\n",
    "### State of the art models for Machine Translation\n",
    "Some of the most advanced translation models today, such as **Google's T5 (Text-to-Text Transfer Transformer)** and **OpenAI's GPT-3**, are based on the transformer architecture. These models have achieved unprecedented performance on a wide range of natural language tasks, including translation.\n",
    "\n",
    "While our current implementation using seq2seq LSTM provides a solid foundation and helps in understanding the core concepts of neural machine translation, transitioning to a transformer-based model would likely yield significant improvements in translation quality, especially for longer sequences and more complex language pairs."
   ]
  },
  {
   "cell_type": "code",
   "execution_count": null,
   "id": "f01ee357",
   "metadata": {},
   "outputs": [],
   "source": []
  }
 ],
 "metadata": {
  "kernelspec": {
   "display_name": "Python 3 (ipykernel)",
   "language": "python",
   "name": "python3"
  },
  "language_info": {
   "codemirror_mode": {
    "name": "ipython",
    "version": 3
   },
   "file_extension": ".py",
   "mimetype": "text/x-python",
   "name": "python",
   "nbconvert_exporter": "python",
   "pygments_lexer": "ipython3",
   "version": "3.11.5"
  }
 },
 "nbformat": 4,
 "nbformat_minor": 5
}
